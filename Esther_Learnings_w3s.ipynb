{
  "nbformat": 4,
  "nbformat_minor": 0,
  "metadata": {
    "colab": {
      "provenance": [],
      "authorship_tag": "ABX9TyNcJyPWyXxCwcPSfwbjwwpe",
      "include_colab_link": true
    },
    "kernelspec": {
      "name": "python3",
      "display_name": "Python 3"
    },
    "language_info": {
      "name": "python"
    }
  },
  "cells": [
    {
      "cell_type": "markdown",
      "metadata": {
        "id": "view-in-github",
        "colab_type": "text"
      },
      "source": [
        "<a href=\"https://colab.research.google.com/github/Esther-KPA/Analysing-global-debt-using-sql/blob/main/Esther_Learnings_w3s.ipynb\" target=\"_parent\"><img src=\"https://colab.research.google.com/assets/colab-badge.svg\" alt=\"Open In Colab\"/></a>"
      ]
    },
    {
      "cell_type": "code",
      "execution_count": 2,
      "metadata": {
        "colab": {
          "base_uri": "https://localhost:8080/"
        },
        "id": "HfCynftCnmEb",
        "outputId": "5dc6ea69-ce28-43f2-c6b2-faf52c1c3dcd"
      },
      "outputs": [
        {
          "output_type": "stream",
          "name": "stdout",
          "text": [
            "Hello, World!\n"
          ]
        }
      ],
      "source": [
        "print(\"Hello, World!\")"
      ]
    },
    {
      "cell_type": "code",
      "source": [
        "if 5 > 2:\n",
        " print(\"Five is greater than two!\")"
      ],
      "metadata": {
        "colab": {
          "base_uri": "https://localhost:8080/"
        },
        "id": "1XtFzgSSo6GG",
        "outputId": "b92c2922-de86-49ad-c302-8075b6ac6d4e"
      },
      "execution_count": 5,
      "outputs": [
        {
          "output_type": "stream",
          "name": "stdout",
          "text": [
            "Five is greater than two!\n"
          ]
        }
      ]
    },
    {
      "cell_type": "code",
      "source": [
        "if 5 > 2:\n",
        "  print(\"Five is greater than two\")\n",
        "  if 5 > 2:\n",
        "   print(\"Five is greater than two!\")"
      ],
      "metadata": {
        "colab": {
          "base_uri": "https://localhost:8080/"
        },
        "id": "rePwI731pWZy",
        "outputId": "094d68b7-674e-4e3f-b643-e21e8277f9b9"
      },
      "execution_count": 8,
      "outputs": [
        {
          "output_type": "stream",
          "name": "stdout",
          "text": [
            "Five is greater than two\n",
            "Five is greater than two!\n"
          ]
        }
      ]
    },
    {
      "cell_type": "markdown",
      "source": [
        "## Comments in Python"
      ],
      "metadata": {
        "id": "K2rBicqhqYKC"
      }
    },
    {
      "cell_type": "code",
      "source": [
        "#This is a comment\n",
        "print(\"Hello Esther!\")"
      ],
      "metadata": {
        "colab": {
          "base_uri": "https://localhost:8080/"
        },
        "id": "wVl7mpHNqckF",
        "outputId": "51517953-3653-4337-c12e-8e8253a62e97"
      },
      "execution_count": 9,
      "outputs": [
        {
          "output_type": "stream",
          "name": "stdout",
          "text": [
            "Hello Esther!\n"
          ]
        }
      ]
    },
    {
      "cell_type": "code",
      "source": [
        "print(\"Hello Esther!\") #This is a comment"
      ],
      "metadata": {
        "colab": {
          "base_uri": "https://localhost:8080/"
        },
        "id": "M6sNQJxOq_1p",
        "outputId": "c4b0eab9-d7f2-478e-c25b-2b5bdf663d08"
      },
      "execution_count": 10,
      "outputs": [
        {
          "output_type": "stream",
          "name": "stdout",
          "text": [
            "Hello Esther!\n"
          ]
        }
      ]
    },
    {
      "cell_type": "code",
      "source": [
        "#print(\"Hello Esther\")\n",
        "print(\"Hello Esther\")"
      ],
      "metadata": {
        "colab": {
          "base_uri": "https://localhost:8080/"
        },
        "id": "nH75ub12rVrV",
        "outputId": "0737103e-eaef-46af-fa1c-83efed18534a"
      },
      "execution_count": 11,
      "outputs": [
        {
          "output_type": "stream",
          "name": "stdout",
          "text": [
            "Hello Esther\n"
          ]
        }
      ]
    },
    {
      "cell_type": "code",
      "source": [
        "#This is a comment\n",
        "#Python does not really have a multi-comment\n",
        "#But this is an example of comment written in more than just one line\n",
        "print(\"Learning Comments!\")"
      ],
      "metadata": {
        "colab": {
          "base_uri": "https://localhost:8080/"
        },
        "id": "qPnMSetor8j7",
        "outputId": "e49f5518-b8af-413c-aac1-67b3af4615c2"
      },
      "execution_count": 12,
      "outputs": [
        {
          "output_type": "stream",
          "name": "stdout",
          "text": [
            "Learning Comments!\n"
          ]
        }
      ]
    },
    {
      "cell_type": "code",
      "source": [
        "\"\"\"\n",
        "This is a comment in form of multi-string. Python will\n",
        "ignore string literals that are not assigned to a variable\n",
        "\"\"\"\n",
        "print(\"Comments in Python\")"
      ],
      "metadata": {
        "colab": {
          "base_uri": "https://localhost:8080/"
        },
        "id": "VMvBiHPQsnqC",
        "outputId": "c484af68-4a7d-417f-fe81-e31d8677d466"
      },
      "execution_count": 16,
      "outputs": [
        {
          "output_type": "stream",
          "name": "stdout",
          "text": [
            "Comments in Python\n"
          ]
        }
      ]
    },
    {
      "cell_type": "markdown",
      "source": [
        "# Variables In Python"
      ],
      "metadata": {
        "id": "ZB19Io8wuCMN"
      }
    },
    {
      "cell_type": "code",
      "source": [
        "#Some examples to practice\n",
        "x = 5\n",
        "y = \"Esther\"\n",
        "print(x)\n",
        "print(y)"
      ],
      "metadata": {
        "colab": {
          "base_uri": "https://localhost:8080/"
        },
        "id": "eK9jFVuyuG7R",
        "outputId": "870a4bf8-7471-4729-8713-ea0f0ec3ae8b"
      },
      "execution_count": 17,
      "outputs": [
        {
          "output_type": "stream",
          "name": "stdout",
          "text": [
            "5\n",
            "Esther\n"
          ]
        }
      ]
    },
    {
      "cell_type": "code",
      "source": [
        "#Variables do not need to be declared with any particular type\n",
        "x = 5 #This is of type int\n",
        "y = \"Esther\" #This is of type str\n",
        "print(x)"
      ],
      "metadata": {
        "colab": {
          "base_uri": "https://localhost:8080/"
        },
        "id": "gGQXi7-svAB8",
        "outputId": "41ef0ecb-9d61-40d0-f0c5-864f828eac2f"
      },
      "execution_count": 19,
      "outputs": [
        {
          "output_type": "stream",
          "name": "stdout",
          "text": [
            "5\n"
          ]
        }
      ]
    },
    {
      "cell_type": "markdown",
      "source": [
        "**CASTING**"
      ],
      "metadata": {
        "id": "vprptTvKvYSb"
      }
    },
    {
      "cell_type": "code",
      "source": [
        "x = str(3) #x will be '3'\n",
        "y = int(3) #y will be 3\n",
        "z = float(3) #z will be 3.0\n",
        "\n",
        "print(x,y,z)"
      ],
      "metadata": {
        "colab": {
          "base_uri": "https://localhost:8080/"
        },
        "id": "DTqDxyFkvbC7",
        "outputId": "0bc7862b-4ca4-4167-a460-3c6d9861edcf"
      },
      "execution_count": 20,
      "outputs": [
        {
          "output_type": "stream",
          "name": "stdout",
          "text": [
            "3 3 3.0\n"
          ]
        }
      ]
    },
    {
      "cell_type": "code",
      "source": [
        "#You can get the data type of a variable with the type() function\n",
        "\n",
        "x = 5\n",
        "y = \"Esther\"\n",
        "\n",
        "print(type(x))\n",
        "print(type(y))"
      ],
      "metadata": {
        "colab": {
          "base_uri": "https://localhost:8080/"
        },
        "id": "i-dT8PcJwT7x",
        "outputId": "8c35b79c-50d5-4020-a0f9-b8e8c3d9e4ac"
      },
      "execution_count": 21,
      "outputs": [
        {
          "output_type": "stream",
          "name": "stdout",
          "text": [
            "<class 'int'>\n",
            "<class 'str'>\n"
          ]
        }
      ]
    },
    {
      "cell_type": "code",
      "source": [
        "x = \"Esther\"\n",
        "# Is the same as\n",
        "x = 'Esther'\n",
        "print(x)"
      ],
      "metadata": {
        "colab": {
          "base_uri": "https://localhost:8080/"
        },
        "id": "1OFGf-Qvws-e",
        "outputId": "06a66a15-394d-4d26-b671-1431067d0004"
      },
      "execution_count": 22,
      "outputs": [
        {
          "output_type": "stream",
          "name": "stdout",
          "text": [
            "Esther\n"
          ]
        }
      ]
    },
    {
      "cell_type": "code",
      "source": [
        "#Variables are case sensitive\n",
        "a = 4\n",
        "A = \"Esther\"\n",
        "#A will not overwrite a\n",
        "print(a)"
      ],
      "metadata": {
        "colab": {
          "base_uri": "https://localhost:8080/"
        },
        "id": "pEfA2vThw_W9",
        "outputId": "7781b2af-8ff7-42da-904f-57202f27753d"
      },
      "execution_count": 25,
      "outputs": [
        {
          "output_type": "stream",
          "name": "stdout",
          "text": [
            "4\n"
          ]
        }
      ]
    },
    {
      "cell_type": "markdown",
      "source": [
        "**Assigning MULTIPLE Values to multiple variables in one line**"
      ],
      "metadata": {
        "id": "Gd8WjxPW0CI4"
      }
    },
    {
      "cell_type": "code",
      "source": [
        "x, y, z = \"Orange\", \"Banana\", \"Cherry\"\n",
        "print(x)\n",
        "print(y)\n",
        "print(z)\n",
        "#Make sure the number of variables matches the number of values, or else you will get an error."
      ],
      "metadata": {
        "colab": {
          "base_uri": "https://localhost:8080/"
        },
        "id": "Q5zkZc8S0JQI",
        "outputId": "4ff64ebe-359b-46f1-b892-4ba12d543a66"
      },
      "execution_count": 26,
      "outputs": [
        {
          "output_type": "stream",
          "name": "stdout",
          "text": [
            "Orange\n",
            "Banana\n",
            "Cherry\n"
          ]
        }
      ]
    },
    {
      "cell_type": "markdown",
      "source": [
        "**One Value to Multiple Variables**"
      ],
      "metadata": {
        "id": "yERNcU280iuU"
      }
    },
    {
      "cell_type": "code",
      "source": [
        "x = y = z = \"Orange\"\n",
        "print(x)\n",
        "print(y)\n",
        "print(z)"
      ],
      "metadata": {
        "colab": {
          "base_uri": "https://localhost:8080/"
        },
        "id": "ZbdFdY700l3s",
        "outputId": "2e6d5c1c-b37c-4f8b-8610-14ecb38c5ada"
      },
      "execution_count": 27,
      "outputs": [
        {
          "output_type": "stream",
          "name": "stdout",
          "text": [
            "Orange\n",
            "Orange\n",
            "Orange\n"
          ]
        }
      ]
    },
    {
      "cell_type": "markdown",
      "source": [
        "**Unpacking a collection**"
      ],
      "metadata": {
        "id": "C4DEojGt1lRv"
      }
    },
    {
      "cell_type": "code",
      "source": [
        "#If you have a collection of values in a list, tuple etc. Python allows you to extract the values into variables."
      ],
      "metadata": {
        "id": "MS9dE3BK1sXn"
      },
      "execution_count": null,
      "outputs": []
    },
    {
      "cell_type": "code",
      "source": [
        "#Unpack a list\n",
        "\n",
        "fruits = [\"apple\", \"banana\", \"cherry\"]\n",
        "x,y,z = fruits\n",
        "print(x)\n",
        "print(y)\n",
        "print(z)"
      ],
      "metadata": {
        "colab": {
          "base_uri": "https://localhost:8080/"
        },
        "id": "_ydbWGiM1o74",
        "outputId": "7e34c465-dae8-4ba8-8565-f2cb3e10287c"
      },
      "execution_count": 28,
      "outputs": [
        {
          "output_type": "stream",
          "name": "stdout",
          "text": [
            "apple\n",
            "banana\n",
            "cherry\n"
          ]
        }
      ]
    },
    {
      "cell_type": "markdown",
      "source": [
        "**Output Function**"
      ],
      "metadata": {
        "id": "8ljBMVaR4pk6"
      }
    },
    {
      "cell_type": "code",
      "source": [
        "#In the print() function, you output multiple variables, separated by a comma\n",
        "\n",
        "x = \"Print\"\n",
        "y = \"Is\"\n",
        "z = \"Awesome!\"\n",
        "print(x, y, z)"
      ],
      "metadata": {
        "colab": {
          "base_uri": "https://localhost:8080/"
        },
        "id": "OD95VBSP4uE1",
        "outputId": "dc8713f3-b167-4e93-dcdb-819c5df83b3e"
      },
      "execution_count": 29,
      "outputs": [
        {
          "output_type": "stream",
          "name": "stdout",
          "text": [
            "Print Is Awesome!\n"
          ]
        }
      ]
    },
    {
      "cell_type": "code",
      "source": [
        "x = \"Print\"\n",
        "y = \"Is\"\n",
        "z = \"Awesome!\"\n",
        "print(x + y + z)\n",
        "#You can also use +"
      ],
      "metadata": {
        "colab": {
          "base_uri": "https://localhost:8080/"
        },
        "id": "zJB0-Otl5Gay",
        "outputId": "5b9791c1-19dc-43f9-8a1b-1e245dacdc11"
      },
      "execution_count": 30,
      "outputs": [
        {
          "output_type": "stream",
          "name": "stdout",
          "text": [
            "PrintIsAwesome!\n"
          ]
        }
      ]
    },
    {
      "cell_type": "code",
      "source": [
        "x = \"Print \"\n",
        "y = \"Is \"\n",
        "z = \"Awesome! \"\n",
        "print(x + y + z)\n",
        "#Add a space after the close brackets to make the text readable"
      ],
      "metadata": {
        "colab": {
          "base_uri": "https://localhost:8080/"
        },
        "id": "EY8_mEQ05Wbl",
        "outputId": "5bd3736f-d5fd-4759-c692-18f7ba268b0a"
      },
      "execution_count": 31,
      "outputs": [
        {
          "output_type": "stream",
          "name": "stdout",
          "text": [
            "Print Is Awesome! \n"
          ]
        }
      ]
    },
    {
      "cell_type": "code",
      "source": [
        "#For numbers + is a mathematical operator\n",
        "x = 5\n",
        "y = 10\n",
        "print(x + y)"
      ],
      "metadata": {
        "colab": {
          "base_uri": "https://localhost:8080/"
        },
        "id": "URa6yeCA5pIm",
        "outputId": "e76e44e2-2be8-4055-b7d5-f318d96c0c5a"
      },
      "execution_count": 32,
      "outputs": [
        {
          "output_type": "stream",
          "name": "stdout",
          "text": [
            "15\n"
          ]
        }
      ]
    }
  ]
}